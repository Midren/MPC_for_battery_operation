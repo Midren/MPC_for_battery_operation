{
 "cells": [
  {
   "cell_type": "code",
   "execution_count": 1,
   "metadata": {},
   "outputs": [],
   "source": [
    "from pymodelica import compile_fmu\n",
    "import traceback\n",
    "import logging\n",
    "\n",
    "from pyfmi import load_fmu\n",
    "import pymodelica\n",
    "\n",
    "import os\n",
    "import shutil\n",
    "import sys\n",
    "import matplotlib.pyplot as plt"
   ]
  },
  {
   "cell_type": "code",
   "execution_count": 14,
   "metadata": {},
   "outputs": [],
   "source": [
    "debug_solver = True\n",
    "model=\"TheveninBasedBattery\"\n",
    "generate_plot = True"
   ]
  },
  {
   "cell_type": "code",
   "execution_count": 36,
   "metadata": {},
   "outputs": [],
   "source": [
    "# compile fmu\n",
    "fmu_name = compile_fmu(model,\n",
    "                       version=\"2.0\",\n",
    "                       compiler_log_level='warning', #'info', 'warning',\n",
    "                       compiler_options = {\"generate_html_diagnostics\" : True,\n",
    "                                           \"nle_solver_tol_factor\": 1e-2}) # 1e-2 is the default"
   ]
  },
  {
   "cell_type": "code",
   "execution_count": 46,
   "metadata": {},
   "outputs": [],
   "source": [
    "# Load model\n",
    "mod = load_fmu(fmu_name, log_level=4) # default setting is 3\n",
    "mod.set_max_log_size(2073741824) # = 2*1024^3 (about 2GB)"
   ]
  },
  {
   "cell_type": "code",
   "execution_count": 47,
   "metadata": {},
   "outputs": [],
   "source": [
    "# Retrieve and set solver options\n",
    "x_nominal = mod.nominal_continuous_states\n",
    "opts = mod.simulate_options() #Retrieve the default options\n",
    "\n",
    "opts['solver'] = 'CVode' #'Radau5ODE' #CVode\n",
    "opts['ncp'] = 500\n",
    "\n",
    "if opts['solver'].lower() == 'cvode':\n",
    "  # Set user-specified tolerance if it is smaller than the tolerance in the .mo file\n",
    "  rtol = 1.0e-8\n",
    "  x_nominal = mod.nominal_continuous_states\n",
    "\n",
    "  if len(x_nominal) > 0:\n",
    "    atol = rtol*x_nominal\n",
    "  else:\n",
    "    atol = rtol\n",
    "\n",
    "  opts['CVode_options']['external_event_detection'] = False\n",
    "  opts['CVode_options']['maxh'] = (mod.get_default_experiment_stop_time()-mod.get_default_experiment_start_time())/float(opts['ncp'])\n",
    "  opts['CVode_options']['iter'] = 'Newton'\n",
    "  opts['CVode_options']['discr'] = 'BDF'\n",
    "  opts['CVode_options']['rtol'] = rtol\n",
    "  opts['CVode_options']['atol'] = atol\n",
    "  opts['CVode_options']['store_event_points'] = True # True is default, set to false if many events\n",
    "\n",
    "  if debug_solver:\n",
    "    opts['CVode_options']['clock_step'] = True\n",
    "\n",
    "\n",
    "if debug_solver:\n",
    "  opts[\"logging\"] = True #<- Turn on solver debug logging\n",
    "  mod.set(\"_log_level\", 4)"
   ]
  },
  {
   "cell_type": "code",
   "execution_count": 48,
   "metadata": {},
   "outputs": [
    {
     "name": "stdout",
     "output_type": "stream",
     "text": [
      "[CVode Warning] Internal t = 6973.98 and h = 2.1972e-13 are such that t + h = t on the next step. The solver will continue anyway.\n",
      "[CVode Warning] Internal t = 6973.98 and h = 2.1972e-13 are such that t + h = t on the next step. The solver will continue anyway.\n",
      "[CVode Warning] Internal t = 6973.98 and h = 2.82299e-13 are such that t + h = t on the next step. The solver will continue anyway.\n",
      "[CVode Warning] Internal t = 6973.98 and h = 1.43113e-13 are such that t + h = t on the next step. The solver will continue anyway.\n",
      "[CVode Warning] Internal t = 6973.98 and h = 7.31401e-14 are such that t + h = t on the next step. The solver will continue anyway.\n",
      "[CVode Warning] Internal t = 6973.98 and h = 7.51614e-15 are such that t + h = t on the next step. The solver will continue anyway.\n",
      "[CVode Warning] Internal t = 6973.98 and h = 7.51614e-15 are such that t + h = t on the next step. The solver will continue anyway.\n",
      "[CVode Warning] Internal t = 6973.98 and h = 2.04617e-14 are such that t + h = t on the next step. The solver will continue anyway.\n",
      "[CVode Warning] Internal t = 6973.98 and h = 7.82348e-15 are such that t + h = t on the next step. The solver will continue anyway.\n",
      "[CVode Warning] Internal t = 6973.98 and h = 7.82348e-15 are such that t + h = t on the next step. The solver will continue anyway.\n",
      "[CVode Warning] The above warning has been issued mxhnil times and will not be issued again for this problem.\n",
      "Final Run Statistics: --- \n",
      "\n",
      " Number of steps                                 : 1056\n",
      " Number of function evaluations                  : 1569\n",
      " Number of Jacobian evaluations                  : 29\n",
      " Number of function eval. due to Jacobian eval.  : 174\n",
      " Number of error test failures                   : 131\n",
      " Number of nonlinear iterations                  : 1557\n",
      " Number of nonlinear convergence failures        : 0\n",
      " Number of state function evaluations            : 1069\n",
      " Number of state events                          : 1\n",
      " Number of time events                           : 1\n",
      "\n",
      "Solver options:\n",
      "\n",
      " Solver                   : CVode\n",
      " Linear multistep method  : BDF\n",
      " Nonlinear solver         : Newton\n",
      " Linear solver type       : DENSE\n",
      " Maximal order            : 5\n",
      " Tolerances (absolute)    : 1e-08\n",
      " Tolerances (relative)    : 1e-08\n",
      "\n",
      "Simulation interval    : 0.0 - 10000.0 seconds.\n",
      "Elapsed simulation time: 0.773530960083 seconds.\n"
     ]
    }
   ],
   "source": [
    "res = mod.simulate(options=opts)"
   ]
  },
  {
   "cell_type": "code",
   "execution_count": 52,
   "metadata": {},
   "outputs": [
    {
     "data": {
      "image/png": "[encoded data removed]",
      "text/plain": [
       "<matplotlib.figure.Figure at 0x7fc608ff8ed0>"
      ]
     },
     "metadata": {
      "needs_background": "light"
     },
     "output_type": "display_data"
    }
   ],
   "source": [
    "plt.plot(res['time'], res['voltageSource.U_ocv.v'])\n",
    "plt.xlabel('time in [s]')\n",
    "plt.ylabel('volatage response[U]')\n",
    "plt.grid()\n",
    "plt.show()"
   ]
  },
  {
   "cell_type": "code",
   "execution_count": null,
   "metadata": {},
   "outputs": [],
   "source": []
  }
 ],
 "metadata": {
  "kernelspec": {
   "display_name": "Python 2",
   "language": "python",
   "name": "python2"
  },
  "language_info": {
   "codemirror_mode": {
    "name": "ipython",
    "version": 2
   },
   "file_extension": ".py",
   "mimetype": "text/x-python",
   "name": "python",
   "nbconvert_exporter": "python",
   "pygments_lexer": "ipython2",
   "version": "2.7.15+"
  }
 },
 "nbformat": 4,
 "nbformat_minor": 2
}
