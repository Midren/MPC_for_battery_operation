{
 "cells": [
  {
   "cell_type": "code",
   "execution_count": 1,
   "metadata": {},
   "outputs": [],
   "source": [
    "from pymodelica import compile_fmu\n",
    "import traceback\n",
    "import logging\n",
    "\n",
    "from pyfmi import load_fmu\n",
    "import pymodelica\n",
    "\n",
    "import os\n",
    "import shutil\n",
    "import sys\n",
    "import matplotlib.pyplot as plt"
   ]
  },
  {
   "cell_type": "code",
   "execution_count": 14,
   "metadata": {},
   "outputs": [],
   "source": [
    "debug_solver = True\n",
    "model=\"TheveninBasedBattery\"\n",
    "generate_plot = True"
   ]
  },
  {
   "cell_type": "code",
   "execution_count": 31,
   "metadata": {},
   "outputs": [],
   "source": [
    "# compile fmu\n",
    "fmu_name = compile_fmu(model,\n",
    "                       version=\"2.0\",\n",
    "                       compiler_log_level='warning', #'info', 'warning',\n",
    "                       compiler_options = {\"generate_html_diagnostics\" : True,\n",
    "                                           \"nle_solver_tol_factor\": 1e-2}) # 1e-2 is the default"
   ]
  },
  {
   "cell_type": "code",
   "execution_count": 32,
   "metadata": {},
   "outputs": [],
   "source": [
    "# Load model\n",
    "mod = load_fmu(fmu_name, log_level=4) # default setting is 3\n",
    "mod.set_max_log_size(2073741824) # = 2*1024^3 (about 2GB)"
   ]
  },
  {
   "cell_type": "code",
   "execution_count": 33,
   "metadata": {},
   "outputs": [],
   "source": [
    "# Retrieve and set solver options\n",
    "x_nominal = mod.nominal_continuous_states\n",
    "opts = mod.simulate_options() #Retrieve the default options\n",
    "\n",
    "opts['solver'] = 'CVode' #'Radau5ODE' #CVode\n",
    "opts['ncp'] = 500\n",
    "\n",
    "if opts['solver'].lower() == 'cvode':\n",
    "  # Set user-specified tolerance if it is smaller than the tolerance in the .mo file\n",
    "  rtol = 1.0e-8\n",
    "  x_nominal = mod.nominal_continuous_states\n",
    "\n",
    "  if len(x_nominal) > 0:\n",
    "    atol = rtol*x_nominal\n",
    "  else:\n",
    "    atol = rtol\n",
    "\n",
    "  opts['CVode_options']['external_event_detection'] = False\n",
    "  opts['CVode_options']['maxh'] = (mod.get_default_experiment_stop_time()-mod.get_default_experiment_start_time())/float(opts['ncp'])\n",
    "  opts['CVode_options']['iter'] = 'Newton'\n",
    "  opts['CVode_options']['discr'] = 'BDF'\n",
    "  opts['CVode_options']['rtol'] = rtol\n",
    "  opts['CVode_options']['atol'] = atol\n",
    "  opts['CVode_options']['store_event_points'] = True # True is default, set to false if many events\n",
    "\n",
    "  if debug_solver:\n",
    "    opts['CVode_options']['clock_step'] = True\n",
    "\n",
    "\n",
    "if debug_solver:\n",
    "  opts[\"logging\"] = True #<- Turn on solver debug logging\n",
    "  mod.set(\"_log_level\", 4)"
   ]
  },
  {
   "cell_type": "code",
   "execution_count": 34,
   "metadata": {},
   "outputs": [
    {
     "ename": "FMUException",
     "evalue": "Enter Initialize returned with an error. Enable logging for more information, (load_fmu(..., log_level=4)).",
     "output_type": "error",
     "traceback": [
      "\u001b[0;31m---------------------------------------------------------------------------\u001b[0m",
      "\u001b[0;31mFMUException\u001b[0m                              Traceback (most recent call last)",
      "\u001b[0;32m<ipython-input-34-f6bae8384029>\u001b[0m in \u001b[0;36m<module>\u001b[0;34m()\u001b[0m\n\u001b[0;32m----> 1\u001b[0;31m \u001b[0mres\u001b[0m \u001b[0;34m=\u001b[0m \u001b[0mmod\u001b[0m\u001b[0;34m.\u001b[0m\u001b[0msimulate\u001b[0m\u001b[0;34m(\u001b[0m\u001b[0moptions\u001b[0m\u001b[0;34m=\u001b[0m\u001b[0mopts\u001b[0m\u001b[0;34m)\u001b[0m\u001b[0;34m\u001b[0m\u001b[0;34m\u001b[0m\u001b[0m\n\u001b[0m",
      "\u001b[0;32msrc/pyfmi/fmi.pyx\u001b[0m in \u001b[0;36mpyfmi.fmi.FMUModelME2.simulate\u001b[0;34m()\u001b[0m\n",
      "\u001b[0;32msrc/pyfmi/fmi.pyx\u001b[0m in \u001b[0;36mpyfmi.fmi.ModelBase._exec_simulate_algorithm\u001b[0;34m()\u001b[0m\n",
      "\u001b[0;32msrc/pyfmi/fmi.pyx\u001b[0m in \u001b[0;36mpyfmi.fmi.ModelBase._exec_simulate_algorithm\u001b[0;34m()\u001b[0m\n",
      "\u001b[0;32m/usr/local/JModelica/Python/pyfmi/fmi_algorithm_drivers.py\u001b[0m in \u001b[0;36m__init__\u001b[0;34m(self, start_time, final_time, input, model, options)\u001b[0m\n\u001b[1;32m    328\u001b[0m             \u001b[0;32melif\u001b[0m \u001b[0misinstance\u001b[0m\u001b[0;34m(\u001b[0m\u001b[0mself\u001b[0m\u001b[0;34m.\u001b[0m\u001b[0mmodel\u001b[0m\u001b[0;34m,\u001b[0m \u001b[0mfmi\u001b[0m\u001b[0;34m.\u001b[0m\u001b[0mFMUModelME2\u001b[0m\u001b[0;34m)\u001b[0m \u001b[0;32mor\u001b[0m \u001b[0misinstance\u001b[0m\u001b[0;34m(\u001b[0m\u001b[0mself\u001b[0m\u001b[0;34m.\u001b[0m\u001b[0mmodel\u001b[0m\u001b[0;34m,\u001b[0m \u001b[0mfmi_coupled\u001b[0m\u001b[0;34m.\u001b[0m\u001b[0mCoupledFMUModelME2\u001b[0m\u001b[0;34m)\u001b[0m\u001b[0;34m:\u001b[0m\u001b[0;34m\u001b[0m\u001b[0;34m\u001b[0m\u001b[0m\n\u001b[1;32m    329\u001b[0m                 \u001b[0mself\u001b[0m\u001b[0;34m.\u001b[0m\u001b[0mmodel\u001b[0m\u001b[0;34m.\u001b[0m\u001b[0msetup_experiment\u001b[0m\u001b[0;34m(\u001b[0m\u001b[0mtolerance\u001b[0m\u001b[0;34m=\u001b[0m\u001b[0mrtol\u001b[0m\u001b[0;34m,\u001b[0m \u001b[0mstart_time\u001b[0m\u001b[0;34m=\u001b[0m\u001b[0mself\u001b[0m\u001b[0;34m.\u001b[0m\u001b[0mstart_time\u001b[0m\u001b[0;34m,\u001b[0m \u001b[0mstop_time\u001b[0m\u001b[0;34m=\u001b[0m\u001b[0mself\u001b[0m\u001b[0;34m.\u001b[0m\u001b[0mfinal_time\u001b[0m\u001b[0;34m)\u001b[0m\u001b[0;34m\u001b[0m\u001b[0;34m\u001b[0m\u001b[0m\n\u001b[0;32m--> 330\u001b[0;31m                 \u001b[0mself\u001b[0m\u001b[0;34m.\u001b[0m\u001b[0mmodel\u001b[0m\u001b[0;34m.\u001b[0m\u001b[0minitialize\u001b[0m\u001b[0;34m(\u001b[0m\u001b[0;34m)\u001b[0m\u001b[0;34m\u001b[0m\u001b[0;34m\u001b[0m\u001b[0m\n\u001b[0m\u001b[1;32m    331\u001b[0m                 \u001b[0mself\u001b[0m\u001b[0;34m.\u001b[0m\u001b[0mmodel\u001b[0m\u001b[0;34m.\u001b[0m\u001b[0mevent_update\u001b[0m\u001b[0;34m(\u001b[0m\u001b[0;34m)\u001b[0m\u001b[0;34m\u001b[0m\u001b[0;34m\u001b[0m\u001b[0m\n\u001b[1;32m    332\u001b[0m                 \u001b[0mself\u001b[0m\u001b[0;34m.\u001b[0m\u001b[0mmodel\u001b[0m\u001b[0;34m.\u001b[0m\u001b[0menter_continuous_time_mode\u001b[0m\u001b[0;34m(\u001b[0m\u001b[0;34m)\u001b[0m\u001b[0;34m\u001b[0m\u001b[0;34m\u001b[0m\u001b[0m\n",
      "\u001b[0;32msrc/pyfmi/fmi.pyx\u001b[0m in \u001b[0;36mpyfmi.fmi.FMUModelBase2.initialize\u001b[0;34m()\u001b[0m\n",
      "\u001b[0;32msrc/pyfmi/fmi.pyx\u001b[0m in \u001b[0;36mpyfmi.fmi.FMUModelBase2.initialize\u001b[0;34m()\u001b[0m\n",
      "\u001b[0;32msrc/pyfmi/fmi.pyx\u001b[0m in \u001b[0;36mpyfmi.fmi.FMUModelBase2.enter_initialization_mode\u001b[0;34m()\u001b[0m\n",
      "\u001b[0;31mFMUException\u001b[0m: Enter Initialize returned with an error. Enable logging for more information, (load_fmu(..., log_level=4))."
     ]
    }
   ],
   "source": [
    "res = mod.simulate(options=opts)"
   ]
  },
  {
   "cell_type": "code",
   "execution_count": null,
   "metadata": {},
   "outputs": [],
   "source": []
  }
 ],
 "metadata": {
  "kernelspec": {
   "display_name": "Python 2",
   "language": "python",
   "name": "python2"
  },
  "language_info": {
   "codemirror_mode": {
    "name": "ipython",
    "version": 2
   },
   "file_extension": ".py",
   "mimetype": "text/x-python",
   "name": "python",
   "nbconvert_exporter": "python",
   "pygments_lexer": "ipython2",
   "version": "2.7.15+"
  }
 },
 "nbformat": 4,
 "nbformat_minor": 2
}
