{
 "cells": [
  {
   "cell_type": "markdown",
   "metadata": {},
   "source": [
    "$$ V_{OC}(SOC) = 3.685 + 0.2156\\cdot SOC - 0.1178 \\cdot SOC ^2 + 0.3201 \\cdot SOC^3 -1.031 \\cdot e^{-35\\cdot SOC} $$"
   ]
  },
  {
   "cell_type": "markdown",
   "metadata": {},
   "source": [
    "$$R_0 (SOC) = 0.1562 \\cdot e^{-24.37\\cdot SOC} + 0.07446$$\n",
    "\n",
    "$$R_{t,s} (SOC) = 0.3208\\cdot e^{-29.14 \\cdot SOC} + 0.04669$$\n",
    "$$C_{t,s} (SOC) = -752.9\\cdot e^{-13.51 \\cdot SOC} +703.6$$\n",
    "\n",
    "$$R_{t,l} (SOC) = 6.603 \\cdot e^{-29.14 \\cdot SOC} + 0.04669 $$\n",
    "$$C_{t,s} (SOC) = -6056 \\cdot e^{-27.12 \\cdot SOC} + 4475 $$\n",
    "\n",
    "$$C_{bat} = 3060 F$$"
   ]
  },
  {
   "cell_type": "markdown",
   "metadata": {},
   "source": [
    "parameters are constant over 20% - 100%"
   ]
  },
  {
   "cell_type": "markdown",
   "metadata": {},
   "source": [
    "Parameters from https://ieeexplore.ieee.org/document/1634598/"
   ]
  },
  {
   "cell_type": "code",
   "execution_count": 17,
   "metadata": {},
   "outputs": [],
   "source": [
    "import numpy as np\n",
    "import pandas as pd\n",
    "import altair as alt"
   ]
  },
  {
   "cell_type": "code",
   "execution_count": 18,
   "metadata": {},
   "outputs": [],
   "source": [
    "def V_oc(soc):\n",
    "    a = [-5.863e-1, 21.9, 3.414, 1.102e-1, -1.718e-1, 8.0e-3]\n",
    "#     return 3.685+0.2156*soc - 0.1178*soc**2 + 0.3201*soc**3 - 1.031 * np.e**(-35*soc)\n",
    "    return a[0]*np.exp(-a[1]*soc) + a[2] + a[3]*soc + a[4]*np.exp(-a[5]/(1-soc)) "
   ]
  },
  {
   "cell_type": "code",
   "execution_count": 21,
   "metadata": {},
   "outputs": [
    {
     "name": "stdout",
     "output_type": "stream",
     "text": [
      "0.014009400000000005 7.130028973887192e-11 -21.114399999999996 0\n"
     ]
    }
   ],
   "source": [
    "c = [9.869e8, -1.479e-1, -1.178e-1, 13.99, -1.897e-4, 7.054e-2]\n",
    "T = 298\n",
    "R_0 = c[4]*T + c[5]\n",
    "k1 = c[0]*np.exp(c[1]*T)\n",
    "k2 = c[2]*T + c[3]\n",
    "k3 = 0\n",
    "print(R_0, k1, k2, k3)"
   ]
  },
  {
   "cell_type": "code",
   "execution_count": 15,
   "metadata": {},
   "outputs": [
    {
     "data": {
      "text/html": [
       "\n",
       "<div id=\"altair-viz-986c0b968b6d4ad3a5c54f3ba80fabf2\"></div>\n",
       "<script type=\"text/javascript\">\n",
       "  (function(spec, embedOpt){\n",
       "    let outputDiv = document.currentScript.previousElementSibling;\n",
       "    if (outputDiv.id !== \"altair-viz-986c0b968b6d4ad3a5c54f3ba80fabf2\") {\n",
       "      outputDiv = document.getElementById(\"altair-viz-986c0b968b6d4ad3a5c54f3ba80fabf2\");\n",
       "    }\n",
       "    const paths = {\n",
       "      \"vega\": \"https://cdn.jsdelivr.net/npm//vega@5?noext\",\n",
       "      \"vega-lib\": \"https://cdn.jsdelivr.net/npm//vega-lib?noext\",\n",
       "      \"vega-lite\": \"https://cdn.jsdelivr.net/npm//vega-lite@4.8.1?noext\",\n",
       "      \"vega-embed\": \"https://cdn.jsdelivr.net/npm//vega-embed@6?noext\",\n",
       "    };\n",
       "\n",
       "    function loadScript(lib) {\n",
       "      return new Promise(function(resolve, reject) {\n",
       "        var s = document.createElement('script');\n",
       "        s.src = paths[lib];\n",
       "        s.async = true;\n",
       "        s.onload = () => resolve(paths[lib]);\n",
       "        s.onerror = () => reject(`Error loading script: ${paths[lib]}`);\n",
       "        document.getElementsByTagName(\"head\")[0].appendChild(s);\n",
       "      });\n",
       "    }\n",
       "\n",
       "    function showError(err) {\n",
       "      outputDiv.innerHTML = `<div class=\"error\" style=\"color:red;\">${err}</div>`;\n",
       "      throw err;\n",
       "    }\n",
       "\n",
       "    function displayChart(vegaEmbed) {\n",
       "      vegaEmbed(outputDiv, spec, embedOpt)\n",
       "        .catch(err => showError(`Javascript Error: ${err.message}<br>This usually means there's a typo in your chart specification. See the javascript console for the full traceback.`));\n",
       "    }\n",
       "\n",
       "    if(typeof define === \"function\" && define.amd) {\n",
       "      requirejs.config({paths});\n",
       "      require([\"vega-embed\"], displayChart, err => showError(`Error loading script: ${err.message}`));\n",
       "    } else if (typeof vegaEmbed === \"function\") {\n",
       "      displayChart(vegaEmbed);\n",
       "    } else {\n",
       "      loadScript(\"vega\")\n",
       "        .then(() => loadScript(\"vega-lite\"))\n",
       "        .then(() => loadScript(\"vega-embed\"))\n",
       "        .catch(showError)\n",
       "        .then(() => displayChart(vegaEmbed));\n",
       "    }\n",
       "  })({\"config\": {\"view\": {\"continuousWidth\": 400, \"continuousHeight\": 300}}, \"layer\": [{\"mark\": \"line\", \"encoding\": {\"x\": {\"type\": \"quantitative\", \"field\": \"SoC\"}, \"y\": {\"type\": \"quantitative\", \"field\": \"Voltage\", \"scale\": {\"zero\": false}}}}, {\"mark\": \"circle\", \"encoding\": {\"x\": {\"type\": \"quantitative\", \"field\": \"SoC\"}, \"y\": {\"type\": \"quantitative\", \"field\": \"Voltage\", \"scale\": {\"zero\": false}}}}], \"data\": {\"name\": \"data-e8ba8442811905936d89bd9bdd590ffa\"}, \"$schema\": \"https://vega.github.io/schema/vega-lite/v4.8.1.json\", \"datasets\": {\"data-e8ba8442811905936d89bd9bdd590ffa\": [{\"SoC\": 0.0, \"Voltage\": 2.657268917030993}, {\"SoC\": 0.01, \"Voltage\": 2.773697165329809}, {\"SoC\": 0.02, \"Voltage\": 2.8674462337533506}, {\"SoC\": 0.03, \"Voltage\": 2.9429766881059765}, {\"SoC\": 0.04, \"Voltage\": 3.0038717998268925}, {\"SoC\": 0.05, \"Voltage\": 3.053010090827667}, {\"SoC\": 0.06, \"Voltage\": 3.0927039425124403}, {\"SoC\": 0.07, \"Voltage\": 3.124810943419391}, {\"SoC\": 0.08, \"Voltage\": 3.1508233372049457}, {\"SoC\": 0.09, \"Voltage\": 3.171939878158064}, {\"SoC\": 0.1, \"Voltage\": 3.1891235543017724}, {\"SoC\": 0.11, \"Voltage\": 3.203147957621033}, {\"SoC\": 0.12, \"Voltage\": 3.214634534281119}, {\"SoC\": 0.13, \"Voltage\": 3.2240825085448095}, {\"SoC\": 0.14, \"Voltage\": 3.2318929213132765}, {\"SoC\": 0.15, \"Voltage\": 3.2383879408169904}, {\"SoC\": 0.16, \"Voltage\": 3.243826375322692}, {\"SoC\": 0.17, \"Voltage\": 3.248416134838112}, {\"SoC\": 0.18, \"Voltage\": 3.2523242418810945}, {\"SoC\": 0.19, \"Voltage\": 3.255684873359762}, {\"SoC\": 0.2, \"Voltage\": 3.258605820802357}, {\"SoC\": 0.21, \"Voltage\": 3.261173680014025}, {\"SoC\": 0.22, \"Voltage\": 3.2634580200557592}, {\"SoC\": 0.23, \"Voltage\": 3.2655147322918885}, {\"SoC\": 0.24, \"Voltage\": 3.2673887207701173}, {\"SoC\": 0.25, \"Voltage\": 3.269116063481158}, {\"SoC\": 0.26, \"Voltage\": 3.270725748566017}, {\"SoC\": 0.27, \"Voltage\": 3.272241069071253}, {\"SoC\": 0.28, \"Voltage\": 3.2736807434103135}, {\"SoC\": 0.29, \"Voltage\": 3.275059815480717}, {\"SoC\": 0.3, \"Voltage\": 3.276390377776319}, {\"SoC\": 0.31, \"Voltage\": 3.2776821523102546}, {\"SoC\": 0.32, \"Voltage\": 3.2789429573169575}, {\"SoC\": 0.33, \"Voltage\": 3.280179082201173}, {\"SoC\": 0.34, \"Voltage\": 3.2813955887832993}, {\"SoC\": 0.35000000000000003, \"Voltage\": 3.28259655334084}, {\"SoC\": 0.36, \"Voltage\": 3.283785261094423}, {\"SoC\": 0.37, \"Voltage\": 3.2849643624963214}, {\"SoC\": 0.38, \"Voltage\": 3.2861359988394896}, {\"SoC\": 0.39, \"Voltage\": 3.287301903227116}, {\"SoC\": 0.4, \"Voltage\": 3.28846348175551}, {\"SoC\": 0.41000000000000003, \"Voltage\": 3.2896218788095}, {\"SoC\": 0.42, \"Voltage\": 3.2907780296036075}, {\"SoC\": 0.43, \"Voltage\": 3.2919327024870855}, {\"SoC\": 0.44, \"Voltage\": 3.293086533036904}, {\"SoC\": 0.45, \"Voltage\": 3.2942400515661268}, {\"SoC\": 0.46, \"Voltage\": 3.295393705356649}, {\"SoC\": 0.47000000000000003, \"Voltage\": 3.2965478766697816}, {\"SoC\": 0.48, \"Voltage\": 3.2977028973831497}, {\"SoC\": 0.49, \"Voltage\": 3.2988590609380855}, {\"SoC\": 0.5, \"Voltage\": 3.3000166321501307}, {\"SoC\": 0.51, \"Voltage\": 3.3011758553300985}, {\"SoC\": 0.52, \"Voltage\": 3.3023369610792317}, {\"SoC\": 0.53, \"Voltage\": 3.3035001720553714}, {\"SoC\": 0.54, \"Voltage\": 3.3046657079543293}, {\"SoC\": 0.55, \"Voltage\": 3.3058337899094408}, {\"SoC\": 0.56, \"Voltage\": 3.3070046444803682}, {\"SoC\": 0.5700000000000001, \"Voltage\": 3.3081785073782015}, {\"SoC\": 0.58, \"Voltage\": 3.30935562705647}, {\"SoC\": 0.59, \"Voltage\": 3.3105362682860324}, {\"SoC\": 0.6, \"Voltage\": 3.311720715825302}, {\"SoC\": 0.61, \"Voltage\": 3.3129092782956198}, {\"SoC\": 0.62, \"Voltage\": 3.314102292374699}, {\"SoC\": 0.63, \"Voltage\": 3.315300127429102}, {\"SoC\": 0.64, \"Voltage\": 3.3165031907201907}, {\"SoC\": 0.65, \"Voltage\": 3.317711933337657}, {\"SoC\": 0.66, \"Voltage\": 3.3189268570418555}, {\"SoC\": 0.67, \"Voltage\": 3.320148522232415}, {\"SoC\": 0.68, \"Voltage\": 3.3213775573084785}, {\"SoC\": 0.6900000000000001, \"Voltage\": 3.3226146697487264}, {\"SoC\": 0.7000000000000001, \"Voltage\": 3.323860659321777}, {\"SoC\": 0.71, \"Voltage\": 3.3251164339460137}, {\"SoC\": 0.72, \"Voltage\": 3.3263830288614447}, {\"SoC\": 0.73, \"Voltage\": 3.3276616299673583}, {\"SoC\": 0.74, \"Voltage\": 3.328953602436361}, {\"SoC\": 0.75, \"Voltage\": 3.3302605260634737}, {\"SoC\": 0.76, \"Voltage\": 3.3315842392856516}, {\"SoC\": 0.77, \"Voltage\": 3.3329268944672568}, {\"SoC\": 0.78, \"Voltage\": 3.3342910279723283}, {\"SoC\": 0.79, \"Voltage\": 3.3356796498587764}, {\"SoC\": 0.8, \"Voltage\": 3.337096359923158}, {\"SoC\": 0.81, \"Voltage\": 3.3385454995956936}, {\"SoC\": 0.8200000000000001, \"Voltage\": 3.3400323533097436}, {\"SoC\": 0.8300000000000001, \"Voltage\": 3.3415634192245713}, {\"SoC\": 0.84, \"Voltage\": 3.343146778861274}, {\"SoC\": 0.85, \"Voltage\": 3.34479261053927}, {\"SoC\": 0.86, \"Voltage\": 3.346513916386194}, {\"SoC\": 0.87, \"Voltage\": 3.34832757425005}, {\"SoC\": 0.88, \"Voltage\": 3.3502558974689385}, {\"SoC\": 0.89, \"Voltage\": 3.352329013426809}, {\"SoC\": 0.9, \"Voltage\": 3.3545886100757647}, {\"SoC\": 0.91, \"Voltage\": 3.357094064806807}, {\"SoC\": 0.92, \"Voltage\": 3.359932930539214}, {\"SoC\": 0.93, \"Voltage\": 3.3632398732051296}, {\"SoC\": 0.9400000000000001, \"Voltage\": 3.3672332231158575}, {\"SoC\": 0.9500000000000001, \"Voltage\": 3.3722916965153202}, {\"SoC\": 0.96, \"Voltage\": 3.37913405618718}, {\"SoC\": 0.97, \"Voltage\": 3.3893075111202933}, {\"SoC\": 0.98, \"Voltage\": 3.4068350158109912}, {\"SoC\": 0.99, \"Voltage\": 3.4459032837396624}]}}, {\"mode\": \"vega-lite\"});\n",
       "</script>"
      ],
      "text/plain": [
       "alt.LayerChart(...)"
      ]
     },
     "execution_count": 15,
     "metadata": {},
     "output_type": "execute_result"
    }
   ],
   "source": [
    "socs = np.arange(0, 1.00, step=0.01)\n",
    "vs = [V_oc(x) for x in socs]\n",
    "base = alt.Chart(pd.DataFrame({'SoC': socs, 'Voltage': vs})).encode(\n",
    "    x = 'SoC:Q',\n",
    "    y = alt.Y('Voltage:Q', scale=alt.Scale(zero=False))\n",
    ")\n",
    "\n",
    "base.mark_line() + base.mark_circle()"
   ]
  },
  {
   "cell_type": "code",
   "execution_count": 8,
   "metadata": {},
   "outputs": [],
   "source": [
    "with open('soc_to_u_bat_tookup.txt', 'w') as f:\n",
    "    print('#1', file=f)\n",
    "    print('double tab({},2)'.format(socs.size), file=f)\n",
    "    for soc, v in zip(socs, vs):\n",
    "        print(\"\\t{:.2f}\\t{:.5f}\".format(soc, v), file=f)"
   ]
  },
  {
   "cell_type": "code",
   "execution_count": 51,
   "metadata": {},
   "outputs": [
    {
     "data": {
      "text/plain": [
       "21"
      ]
     },
     "execution_count": 51,
     "metadata": {},
     "output_type": "execute_result"
    }
   ],
   "source": []
  },
  {
   "cell_type": "code",
   "execution_count": null,
   "metadata": {},
   "outputs": [],
   "source": []
  }
 ],
 "metadata": {
  "kernelspec": {
   "display_name": "Python 3",
   "language": "python",
   "name": "python3"
  },
  "language_info": {
   "codemirror_mode": {
    "name": "ipython",
    "version": 3
   },
   "file_extension": ".py",
   "mimetype": "text/x-python",
   "name": "python",
   "nbconvert_exporter": "python",
   "pygments_lexer": "ipython3",
   "version": "3.8.7"
  },
  "toc": {
   "base_numbering": 1,
   "nav_menu": {},
   "number_sections": true,
   "sideBar": true,
   "skip_h1_title": false,
   "title_cell": "Table of Contents",
   "title_sidebar": "Contents",
   "toc_cell": false,
   "toc_position": {},
   "toc_section_display": true,
   "toc_window_display": false
  }
 },
 "nbformat": 4,
 "nbformat_minor": 4
}
