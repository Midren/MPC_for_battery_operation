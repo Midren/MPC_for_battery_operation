{
 "cells": [
  {
   "cell_type": "code",
   "execution_count": 1,
   "metadata": {},
   "outputs": [
    {
     "ename": "ModuleNotFoundError",
     "evalue": "No module named 'OMPython'",
     "output_type": "error",
     "traceback": [
      "\u001b[0;31m---------------------------------------------------------------------------\u001b[0m",
      "\u001b[0;31mModuleNotFoundError\u001b[0m                       Traceback (most recent call last)",
      "\u001b[0;32m<ipython-input-1-40476433e59e>\u001b[0m in \u001b[0;36m<module>\u001b[0;34m\u001b[0m\n\u001b[1;32m      3\u001b[0m \u001b[0;32mimport\u001b[0m \u001b[0mpandas\u001b[0m \u001b[0;32mas\u001b[0m \u001b[0mpd\u001b[0m\u001b[0;34m\u001b[0m\u001b[0;34m\u001b[0m\u001b[0m\n\u001b[1;32m      4\u001b[0m \u001b[0;32mimport\u001b[0m \u001b[0mnumpy\u001b[0m \u001b[0;32mas\u001b[0m \u001b[0mnp\u001b[0m\u001b[0;34m\u001b[0m\u001b[0;34m\u001b[0m\u001b[0m\n\u001b[0;32m----> 5\u001b[0;31m \u001b[0;32mfrom\u001b[0m \u001b[0mOMPython\u001b[0m \u001b[0;32mimport\u001b[0m \u001b[0mOMCSessionZMQ\u001b[0m\u001b[0;34m,\u001b[0m \u001b[0mModelicaSystem\u001b[0m\u001b[0;34m\u001b[0m\u001b[0;34m\u001b[0m\u001b[0m\n\u001b[0m\u001b[1;32m      6\u001b[0m \u001b[0malt\u001b[0m\u001b[0;34m.\u001b[0m\u001b[0mdata_transformers\u001b[0m\u001b[0;34m.\u001b[0m\u001b[0mdisable_max_rows\u001b[0m\u001b[0;34m(\u001b[0m\u001b[0;34m)\u001b[0m\u001b[0;34m\u001b[0m\u001b[0;34m\u001b[0m\u001b[0m\n",
      "\u001b[0;31mModuleNotFoundError\u001b[0m: No module named 'OMPython'"
     ]
    }
   ],
   "source": [
    "import os\n",
    "import altair as alt\n",
    "import pandas as pd\n",
    "import numpy as np\n",
    "from OMPython import OMCSessionZMQ, ModelicaSystem\n",
    "alt.data_transformers.disable_max_rows()"
   ]
  },
  {
   "cell_type": "code",
   "execution_count": 59,
   "metadata": {},
   "outputs": [
    {
     "ename": "FileExistsError",
     "evalue": "[Errno 17] File exists: '/home/midren/bachelor/tmp'",
     "output_type": "error",
     "traceback": [
      "\u001b[0;31m---------------------------------------------------------------------------\u001b[0m",
      "\u001b[0;31mFileExistsError\u001b[0m                           Traceback (most recent call last)",
      "\u001b[0;32m<ipython-input-59-be4db6fc4c65>\u001b[0m in \u001b[0;36m<module>\u001b[0;34m\u001b[0m\n\u001b[0;32m----> 1\u001b[0;31m \u001b[0mos\u001b[0m\u001b[0;34m.\u001b[0m\u001b[0mmkdir\u001b[0m\u001b[0;34m(\u001b[0m\u001b[0;34m'/home/midren/bachelor/tmp'\u001b[0m\u001b[0;34m)\u001b[0m\u001b[0;34m\u001b[0m\u001b[0;34m\u001b[0m\u001b[0m\n\u001b[0m\u001b[1;32m      2\u001b[0m \u001b[0mos\u001b[0m\u001b[0;34m.\u001b[0m\u001b[0mchdir\u001b[0m\u001b[0;34m(\u001b[0m\u001b[0;34m'/home/midren/bachelor/tmp'\u001b[0m\u001b[0;34m)\u001b[0m\u001b[0;34m\u001b[0m\u001b[0;34m\u001b[0m\u001b[0m\n\u001b[1;32m      3\u001b[0m \u001b[0mmodel\u001b[0m \u001b[0;34m=\u001b[0m \u001b[0mModelicaSystem\u001b[0m\u001b[0;34m(\u001b[0m\u001b[0;34m\"/home/midren/bachelor/ModelicaSrc/TheveninBasedBattery.mo\"\u001b[0m\u001b[0;34m,\u001b[0m\u001b[0;34m\"TheveninBasedBattery\"\u001b[0m\u001b[0;34m,\u001b[0m\u001b[0;34m[\u001b[0m\u001b[0;34m\"Modelica\"\u001b[0m\u001b[0;34m]\u001b[0m\u001b[0;34m)\u001b[0m\u001b[0;34m\u001b[0m\u001b[0;34m\u001b[0m\u001b[0m\n",
      "\u001b[0;31mFileExistsError\u001b[0m: [Errno 17] File exists: '/home/midren/bachelor/tmp'"
     ]
    }
   ],
   "source": [
    "os.mkdir('/home/midren/bachelor/tmp')\n",
    "os.chdir('/home/midren/bachelor/tmp')\n",
    "model = ModelicaSystem(\"/home/midren/bachelor/ModelicaSrc/TheveninBasedBattery.mo\",\"TheveninBasedBattery\",[\"Modelica\"])"
   ]
  },
  {
   "cell_type": "code",
   "execution_count": 64,
   "metadata": {},
   "outputs": [],
   "source": [
    "model.setSimulationOptions([\"startTime=0\", \"stopTime=7200\", \"stepSize=100\"])\n",
    "model.simulate()"
   ]
  },
  {
   "cell_type": "code",
   "execution_count": 65,
   "metadata": {
    "scrolled": false
   },
   "outputs": [],
   "source": [
    "u_ocv, soc, soh, t = model.getSolutions([\"voltageSource.U_ocv.v\", \"capacityFadingCalc.SoC\", \"SoH\", \"time\"])\n",
    "# alt.Chart(pd.DataFrame({\"value\": u_ocv, \"t\": t})).mark_line().encode(\n",
    "#     x = alt.X('t:T'),\n",
    "#     y = alt.Y('value:Q', scale=alt.Scale(zero=False))\n",
    "# ).transform_filter(alt.datum.t > 3600).configure_view(height=300, width=600)"
   ]
  },
  {
   "cell_type": "code",
   "execution_count": 73,
   "metadata": {},
   "outputs": [
    {
     "data": {
      "text/html": [
       "\n",
       "<div id=\"altair-viz-f21526af5ee44cf2960a4cfbd98040f7\"></div>\n",
       "<script type=\"text/javascript\">\n",
       "  (function(spec, embedOpt){\n",
       "    let outputDiv = document.currentScript.previousElementSibling;\n",
       "    if (outputDiv.id !== \"altair-viz-f21526af5ee44cf2960a4cfbd98040f7\") {\n",
       "      outputDiv = document.getElementById(\"altair-viz-f21526af5ee44cf2960a4cfbd98040f7\");\n",
       "    }\n",
       "    const paths = {\n",
       "      \"vega\": \"https://cdn.jsdelivr.net/npm//vega@5?noext\",\n",
       "      \"vega-lib\": \"https://cdn.jsdelivr.net/npm//vega-lib?noext\",\n",
       "      \"vega-lite\": \"https://cdn.jsdelivr.net/npm//vega-lite@4.8.1?noext\",\n",
       "      \"vega-embed\": \"https://cdn.jsdelivr.net/npm//vega-embed@6?noext\",\n",
       "    };\n",
       "\n",
       "    function loadScript(lib) {\n",
       "      return new Promise(function(resolve, reject) {\n",
       "        var s = document.createElement('script');\n",
       "        s.src = paths[lib];\n",
       "        s.async = true;\n",
       "        s.onload = () => resolve(paths[lib]);\n",
       "        s.onerror = () => reject(`Error loading script: ${paths[lib]}`);\n",
       "        document.getElementsByTagName(\"head\")[0].appendChild(s);\n",
       "      });\n",
       "    }\n",
       "\n",
       "    function showError(err) {\n",
       "      outputDiv.innerHTML = `<div class=\"error\" style=\"color:red;\">${err}</div>`;\n",
       "      throw err;\n",
       "    }\n",
       "\n",
       "    function displayChart(vegaEmbed) {\n",
       "      vegaEmbed(outputDiv, spec, embedOpt)\n",
       "        .catch(err => showError(`Javascript Error: ${err.message}<br>This usually means there's a typo in your chart specification. See the javascript console for the full traceback.`));\n",
       "    }\n",
       "\n",
       "    if(typeof define === \"function\" && define.amd) {\n",
       "      requirejs.config({paths});\n",
       "      require([\"vega-embed\"], displayChart, err => showError(`Error loading script: ${err.message}`));\n",
       "    } else if (typeof vegaEmbed === \"function\") {\n",
       "      displayChart(vegaEmbed);\n",
       "    } else {\n",
       "      loadScript(\"vega\")\n",
       "        .then(() => loadScript(\"vega-lite\"))\n",
       "        .then(() => loadScript(\"vega-embed\"))\n",
       "        .catch(showError)\n",
       "        .then(() => displayChart(vegaEmbed));\n",
       "    }\n",
       "  })({\"config\": {\"view\": {\"continuousWidth\": 400, \"continuousHeight\": 300, \"height\": 300, \"width\": 600}}, \"data\": {\"name\": \"data-340f5e8d79620236de942cfbdafb48a9\"}, \"mark\": \"line\", \"encoding\": {\"x\": {\"type\": \"quantitative\", \"field\": \"SoC\"}, \"y\": {\"type\": \"quantitative\", \"field\": \"U\", \"scale\": {\"zero\": false}}}, \"$schema\": \"https://vega.github.io/schema/vega-lite/v4.8.1.json\", \"datasets\": {\"data-340f5e8d79620236de942cfbdafb48a9\": [{\"U\": 2.79245, \"SoC\": 0.012}, {\"U\": 2.79245, \"SoC\": 0.012}, {\"U\": 2.79245, \"SoC\": 0.012}, {\"U\": 2.926195554044414, \"SoC\": 0.02777777757770605}, {\"U\": 3.075059999205917, \"SoC\": 0.05555555535548429}, {\"U\": 3.15785999957745, \"SoC\": 0.08333333313326241}, {\"U\": 3.204425555325874, \"SoC\": 0.1111111109110402}, {\"U\": 3.231022222065967, \"SoC\": 0.138888888688818}, {\"U\": 3.246889999908167, \"SoC\": 0.1666666664665959}, {\"U\": 3.256982222163602, \"SoC\": 0.1944444442443737}, {\"U\": 3.263915555514541, \"SoC\": 0.2222222220221515}, {\"U\": 3.269119999965388, \"SoC\": 0.2499999997999292}, {\"U\": 3.27335999997119, \"SoC\": 0.2777777775777069}, {\"U\": 3.277106666640857, \"SoC\": 0.3055555553554848}, {\"U\": 3.280586666642258, \"SoC\": 0.3333333331332626}, {\"U\": 3.283919999976592, \"SoC\": 0.3611111109110405}, {\"U\": 3.287171111087903, \"SoC\": 0.3888888886888184}, {\"U\": 3.290393333310125, \"SoC\": 0.4166666664665963}, {\"U\": 3.293601111088103, \"SoC\": 0.4444444442443741}, {\"U\": 3.296805555532548, \"SoC\": 0.4722222220221519}, {\"U\": 3.300019999976792, \"SoC\": 0.4999999997999298}, {\"U\": 3.303242222199014, \"SoC\": 0.5277777775777077}, {\"U\": 3.306479999976592, \"SoC\": 0.5555555553554856}, {\"U\": 3.309753333309725, \"SoC\": 0.5833333331332635}, {\"U\": 3.313042222198414, \"SoC\": 0.6111111109110414}, {\"U\": 3.316366666642658, \"SoC\": 0.6388888886888193}, {\"U\": 3.319743333308925, \"SoC\": 0.6666666664665972}, {\"U\": 3.323165555530547, \"SoC\": 0.6944444442443751}, {\"U\": 3.326664444418836, \"SoC\": 0.7222222220221531}, {\"U\": 3.330259999973791, \"SoC\": 0.7499999997999311}, {\"U\": 3.333987777750569, \"SoC\": 0.7777777775777093}, {\"U\": 3.337905555526546, \"SoC\": 0.805555555355487}, {\"U\": 3.342089999968189, \"SoC\": 0.8333333331332647}, {\"U\": 3.346712222185809, \"SoC\": 0.8611111109110425}, {\"U\": 3.352099999958586, \"SoC\": 0.8888888886888203}, {\"U\": 3.358983333276514, \"SoC\": 0.9166666664665983}, {\"U\": 3.369478888787655, \"SoC\": 0.9444444442443772}, {\"U\": 3.393205555204838, \"SoC\": 0.9722222220221551}, {\"U\": 3.484959999218537, \"SoC\": 0.9999999997999326}, {\"U\": 3.484959999218511, \"SoC\": 0.9999999997999259}, {\"U\": 3.484959999218511, \"SoC\": 0.9999999997999259}]}}, {\"mode\": \"vega-lite\"});\n",
       "</script>"
      ],
      "text/plain": [
       "alt.Chart(...)"
      ]
     },
     "execution_count": 73,
     "metadata": {},
     "output_type": "execute_result"
    }
   ],
   "source": [
    "st = np.argmin(np.abs(t - 3600))\n",
    "alt.Chart(pd.DataFrame({\"U\": u_ocv[st:], \"SoC\": soc[st:]})).mark_line().encode(\n",
    "    x = alt.X('SoC:Q'),\n",
    "    y = alt.Y('U:Q', scale=alt.Scale(zero=False))\n",
    ").configure_view(height=300, width=600)"
   ]
  },
  {
   "cell_type": "code",
   "execution_count": null,
   "metadata": {},
   "outputs": [],
   "source": []
  }
 ],
 "metadata": {
  "kernelspec": {
   "display_name": "Python 3",
   "language": "python",
   "name": "python3"
  },
  "language_info": {
   "codemirror_mode": {
    "name": "ipython",
    "version": 3
   },
   "file_extension": ".py",
   "mimetype": "text/x-python",
   "name": "python",
   "nbconvert_exporter": "python",
   "pygments_lexer": "ipython3",
   "version": "3.8.5"
  },
  "toc": {
   "base_numbering": 1,
   "nav_menu": {},
   "number_sections": true,
   "sideBar": true,
   "skip_h1_title": false,
   "title_cell": "Table of Contents",
   "title_sidebar": "Contents",
   "toc_cell": false,
   "toc_position": {},
   "toc_section_display": true,
   "toc_window_display": false
  }
 },
 "nbformat": 4,
 "nbformat_minor": 4
}
