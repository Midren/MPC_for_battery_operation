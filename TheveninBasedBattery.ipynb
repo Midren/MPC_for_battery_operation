{
 "cells": [
  {
   "cell_type": "markdown",
   "metadata": {},
   "source": [
    "$$ V_{OC}(SOC) = 3.685 + 0.2156\\cdot SOC - 0.1178 \\cdot SOC ^2 + 0.3201 \\cdot SOC^3 -1.031 \\cdot e^{-35\\cdot SOC} $$"
   ]
  },
  {
   "cell_type": "markdown",
   "metadata": {},
   "source": [
    "$$R_0 (SOC) = 0.1562 \\cdot e^{-24.37\\cdot SOC} + 0.07446$$\n",
    "\n",
    "$$R_{t,s} (SOC) = 0.3208\\cdot e^{-29.14 \\cdot SOC} + 0.04669$$\n",
    "$$C_{t,s} (SOC) = -752.9\\cdot e^{-13.51 \\cdot SOC} +703.6$$\n",
    "\n",
    "$$R_{t,l} (SOC) = 6.603 \\cdot e^{-29.14 \\cdot SOC} + 0.04669 $$\n",
    "$$C_{t,s} (SOC) = -6056 \\cdot e^{-27.12 \\cdot SOC} + 4475 $$\n",
    "\n",
    "$$C_{bat} = 3060 F$$"
   ]
  },
  {
   "cell_type": "markdown",
   "metadata": {},
   "source": [
    "parameters are constant over 20% - 100%"
   ]
  },
  {
   "cell_type": "markdown",
   "metadata": {},
   "source": [
    "Parameters from https://ieeexplore.ieee.org/document/1634598/"
   ]
  },
  {
   "cell_type": "code",
   "execution_count": 5,
   "metadata": {},
   "outputs": [],
   "source": [
    "import numpy as np\n",
    "import pandas as pd\n",
    "import altair as alt"
   ]
  },
  {
   "cell_type": "code",
   "execution_count": 23,
   "metadata": {},
   "outputs": [],
   "source": [
    "def V_oc(soc):\n",
    "    return 3.685+0.2156*soc - 0.1178*soc**2 + 0.3201*soc**3 - 1.031 * np.e**(-35*soc)"
   ]
  },
  {
   "cell_type": "code",
   "execution_count": 24,
   "metadata": {},
   "outputs": [
    {
     "data": {
      "text/plain": [
       "[2.654,\n",
       " 3.5163645768025913,\n",
       " 3.67456859769159,\n",
       " 3.7103596460304438,\n",
       " 3.725028649693513,\n",
       " 3.736375688873806,\n",
       " 3.747692309920721,\n",
       " 3.759748854043969,\n",
       " 3.7728775426938905,\n",
       " 3.7873344635225368,\n",
       " 3.803362474111599,\n",
       " 3.821202133001271,\n",
       " 3.8410935992182385,\n",
       " 3.86327696236415,\n",
       " 3.8879922999763927,\n",
       " 3.9154796874958975,\n",
       " 3.9459791999992877,\n",
       " 3.9797309124998765,\n",
       " 4.016974899999979,\n",
       " 4.057951237499997,\n",
       " 4.102899999999999]"
      ]
     },
     "execution_count": 24,
     "metadata": {},
     "output_type": "execute_result"
    }
   ],
   "source": [
    "vs"
   ]
  },
  {
   "cell_type": "code",
   "execution_count": 22,
   "metadata": {},
   "outputs": [
    {
     "data": {
      "text/html": [
       "\n",
       "<div id=\"altair-viz-f848a9b206784a9eb0becc8997ca37d2\"></div>\n",
       "<script type=\"text/javascript\">\n",
       "  (function(spec, embedOpt){\n",
       "    let outputDiv = document.currentScript.previousElementSibling;\n",
       "    if (outputDiv.id !== \"altair-viz-f848a9b206784a9eb0becc8997ca37d2\") {\n",
       "      outputDiv = document.getElementById(\"altair-viz-f848a9b206784a9eb0becc8997ca37d2\");\n",
       "    }\n",
       "    const paths = {\n",
       "      \"vega\": \"https://cdn.jsdelivr.net/npm//vega@5?noext\",\n",
       "      \"vega-lib\": \"https://cdn.jsdelivr.net/npm//vega-lib?noext\",\n",
       "      \"vega-lite\": \"https://cdn.jsdelivr.net/npm//vega-lite@4.8.1?noext\",\n",
       "      \"vega-embed\": \"https://cdn.jsdelivr.net/npm//vega-embed@6?noext\",\n",
       "    };\n",
       "\n",
       "    function loadScript(lib) {\n",
       "      return new Promise(function(resolve, reject) {\n",
       "        var s = document.createElement('script');\n",
       "        s.src = paths[lib];\n",
       "        s.async = true;\n",
       "        s.onload = () => resolve(paths[lib]);\n",
       "        s.onerror = () => reject(`Error loading script: ${paths[lib]}`);\n",
       "        document.getElementsByTagName(\"head\")[0].appendChild(s);\n",
       "      });\n",
       "    }\n",
       "\n",
       "    function showError(err) {\n",
       "      outputDiv.innerHTML = `<div class=\"error\" style=\"color:red;\">${err}</div>`;\n",
       "      throw err;\n",
       "    }\n",
       "\n",
       "    function displayChart(vegaEmbed) {\n",
       "      vegaEmbed(outputDiv, spec, embedOpt)\n",
       "        .catch(err => showError(`Javascript Error: ${err.message}<br>This usually means there's a typo in your chart specification. See the javascript console for the full traceback.`));\n",
       "    }\n",
       "\n",
       "    if(typeof define === \"function\" && define.amd) {\n",
       "      requirejs.config({paths});\n",
       "      require([\"vega-embed\"], displayChart, err => showError(`Error loading script: ${err.message}`));\n",
       "    } else if (typeof vegaEmbed === \"function\") {\n",
       "      displayChart(vegaEmbed);\n",
       "    } else {\n",
       "      loadScript(\"vega\")\n",
       "        .then(() => loadScript(\"vega-lite\"))\n",
       "        .then(() => loadScript(\"vega-embed\"))\n",
       "        .catch(showError)\n",
       "        .then(() => displayChart(vegaEmbed));\n",
       "    }\n",
       "  })({\"config\": {\"view\": {\"continuousWidth\": 400, \"continuousHeight\": 300}}, \"layer\": [{\"mark\": \"line\", \"encoding\": {\"x\": {\"type\": \"quantitative\", \"field\": \"SoC\"}, \"y\": {\"type\": \"quantitative\", \"field\": \"Voltage\"}}}, {\"mark\": \"circle\", \"encoding\": {\"x\": {\"type\": \"quantitative\", \"field\": \"SoC\"}, \"y\": {\"type\": \"quantitative\", \"field\": \"Voltage\"}}}], \"data\": {\"name\": \"data-df6d0b575ad9bb064fccc5aacf38239f\"}, \"$schema\": \"https://vega.github.io/schema/vega-lite/v4.8.1.json\", \"datasets\": {\"data-df6d0b575ad9bb064fccc5aacf38239f\": [{\"SoC\": 0.0, \"Voltage\": 2.654}, {\"SoC\": 0.05, \"Voltage\": 3.5163645768025913}, {\"SoC\": 0.1, \"Voltage\": 3.67456859769159}, {\"SoC\": 0.15000000000000002, \"Voltage\": 3.7103596460304438}, {\"SoC\": 0.2, \"Voltage\": 3.725028649693513}, {\"SoC\": 0.25, \"Voltage\": 3.736375688873806}, {\"SoC\": 0.30000000000000004, \"Voltage\": 3.747692309920721}, {\"SoC\": 0.35000000000000003, \"Voltage\": 3.759748854043969}, {\"SoC\": 0.4, \"Voltage\": 3.7728775426938905}, {\"SoC\": 0.45, \"Voltage\": 3.7873344635225368}, {\"SoC\": 0.5, \"Voltage\": 3.803362474111599}, {\"SoC\": 0.55, \"Voltage\": 3.821202133001271}, {\"SoC\": 0.6000000000000001, \"Voltage\": 3.8410935992182385}, {\"SoC\": 0.65, \"Voltage\": 3.86327696236415}, {\"SoC\": 0.7000000000000001, \"Voltage\": 3.8879922999763927}, {\"SoC\": 0.75, \"Voltage\": 3.9154796874958975}, {\"SoC\": 0.8, \"Voltage\": 3.9459791999992877}, {\"SoC\": 0.8500000000000001, \"Voltage\": 3.9797309124998765}, {\"SoC\": 0.9, \"Voltage\": 4.016974899999979}, {\"SoC\": 0.9500000000000001, \"Voltage\": 4.057951237499997}, {\"SoC\": 1.0, \"Voltage\": 4.102899999999999}]}}, {\"mode\": \"vega-lite\"});\n",
       "</script>"
      ],
      "text/plain": [
       "alt.LayerChart(...)"
      ]
     },
     "execution_count": 22,
     "metadata": {},
     "output_type": "execute_result"
    }
   ],
   "source": [
    "socs = np.arange(0, 1.01, step=0.05)\n",
    "vs = [V_oc(x) for x in socs]\n",
    "base = alt.Chart(pd.DataFrame({'SoC': socs, 'Voltage': vs})).encode(\n",
    "    x = 'SoC:Q',\n",
    "    y = 'Voltage:Q'\n",
    ")\n",
    "\n",
    "base.mark_line() + base.mark_circle()"
   ]
  },
  {
   "cell_type": "code",
   "execution_count": 8,
   "metadata": {},
   "outputs": [],
   "source": [
    "with open('soc_to_u_bat_tookup.txt', 'w') as f:\n",
    "    print('#1', file=f)\n",
    "    print('double tab({},2)'.format(socs.size), file=f)\n",
    "    for soc, v in zip(socs, vs):\n",
    "        print(\"\\t{:.2f}\\t{:.5f}\".format(soc, v), file=f)"
   ]
  },
  {
   "cell_type": "code",
   "execution_count": 51,
   "metadata": {},
   "outputs": [
    {
     "data": {
      "text/plain": [
       "21"
      ]
     },
     "execution_count": 51,
     "metadata": {},
     "output_type": "execute_result"
    }
   ],
   "source": []
  },
  {
   "cell_type": "code",
   "execution_count": null,
   "metadata": {},
   "outputs": [],
   "source": []
  }
 ],
 "metadata": {
  "kernelspec": {
   "display_name": "PyCharm (localization)",
   "language": "python",
   "name": "pycharm-d1e42838"
  },
  "language_info": {
   "codemirror_mode": {
    "name": "ipython",
    "version": 3
   },
   "file_extension": ".py",
   "mimetype": "text/x-python",
   "name": "python",
   "nbconvert_exporter": "python",
   "pygments_lexer": "ipython3",
   "version": "3.8.6"
  },
  "toc": {
   "base_numbering": 1,
   "nav_menu": {},
   "number_sections": true,
   "sideBar": true,
   "skip_h1_title": false,
   "title_cell": "Table of Contents",
   "title_sidebar": "Contents",
   "toc_cell": false,
   "toc_position": {},
   "toc_section_display": true,
   "toc_window_display": false
  }
 },
 "nbformat": 4,
 "nbformat_minor": 4
}
